{
 "cells": [
  {
   "cell_type": "markdown",
   "id": "99b5aab2-ba42-4748-bf10-f73f983a167f",
   "metadata": {},
   "source": [
    "## Consultas phyton implementando HBase"
   ]
  },
  {
   "cell_type": "code",
   "execution_count": null,
   "id": "0356d12b-1cf2-49a1-be48-386edee65416",
   "metadata": {},
   "outputs": [],
   "source": [
    "import happybase\n",
    "import pandas as pd"
   ]
  },
  {
   "cell_type": "code",
   "execution_count": null,
   "id": "842fd94b-a9e6-4d4a-b037-8403cb891488",
   "metadata": {},
   "outputs": [],
   "source": [
    "# Bloque principal de ejecución\n",
    "try:\n",
    "    # 1. Establecer conexión con HBase\n",
    "    connection = happybase.Connection('localhost')\n",
    "    print(\"Conexión establecida con HBase\")"
   ]
  },
  {
   "cell_type": "code",
   "execution_count": null,
   "id": "36fac7e2-02e7-4290-b8a2-fb6184a89394",
   "metadata": {},
   "outputs": [],
   "source": [
    "    # 2. Crear la tabla con las familias de columnas\n",
    "    table_name = 'red_wine_quality'\n",
    "    families = {\n",
    "        'chemistry': dict(),  # datos químicos del vino\n",
    "        'quality': dict()     # información de calidad\n",
    "    }"
   ]
  },
  {
   "cell_type": "code",
   "execution_count": null,
   "id": "f16674dd-cf43-4938-8329-b5b3fcae8688",
   "metadata": {},
   "outputs": [],
   "source": [
    " # Eliminar la tabla si ya existe\n",
    "    if table_name.encode() in connection.tables():\n",
    "        print(f\"Eliminando tabla existente - {table_name}\")\n",
    "        connection.delete_table(table_name, disable=True)"
   ]
  },
  {
   "cell_type": "code",
   "execution_count": null,
   "id": "9739a0b7-4b46-4ac1-b67f-ab7848644998",
   "metadata": {},
   "outputs": [],
   "source": [
    "    # Crear nueva tabla\n",
    "    connection.create_table(table_name, families)\n",
    "    table = connection.table(table_name)\n",
    "    print(\"Tabla 'red_wine_quality' creada exitosamente\")"
   ]
  },
  {
   "cell_type": "code",
   "execution_count": null,
   "id": "03494cb6-e940-4c74-ac5c-94999ece7422",
   "metadata": {},
   "outputs": [],
   "source": [
    "    # 3. Cargar datos del CSV\n",
    "    wine_data = pd.read_csv('winequality-red.csv')"
   ]
  },
  {
   "cell_type": "code",
   "execution_count": null,
   "id": "53ac5faf-db47-4b0f-8b73-c4278a4744cd",
   "metadata": {},
   "outputs": [],
   "source": [
    "    # Iterar sobre el DataFrame usando el índice\n",
    "    for index, row in wine_data.iterrows():\n",
    "        # Generar row key basado en el índice\n",
    "        row_key = f'wine_{index}'.encode()"
   ]
  },
  {
   "cell_type": "code",
   "execution_count": null,
   "id": "8b3d2285-505a-4ae2-b59b-d9bb856010be",
   "metadata": {},
   "outputs": [],
   "source": [
    "        # Organizar los datos en familias de columnas\n",
    "        data = {\n",
    "            b'chemistry:fixed_acidity': str(row['fixed acidity']).encode(),\n",
    "            b'chemistry:volatile_acidity': str(row['volatile acidity']).encode(),\n",
    "            b'chemistry:citric_acid': str(row['citric acid']).encode(),\n",
    "            b'chemistry:residual_sugar': str(row['residual sugar']).encode(),\n",
    "            b'chemistry:chlorides': str(row['chlorides']).encode(),\n",
    "            b'chemistry:free_sulfur_dioxide': str(row['free sulfur dioxide']).encode(),\n",
    "            b'chemistry:total_sulfur_dioxide': str(row['total sulfur dioxide']).encode(),\n",
    "            b'chemistry:density': str(row['density']).encode(),\n",
    "            b'chemistry:pH': str(row['pH']).encode(),\n",
    "            b'chemistry:sulphates': str(row['sulphates']).encode(),\n",
    "            b'chemistry:alcohol': str(row['alcohol']).encode(),\n",
    "            b'quality:score': str(row['quality']).encode()\n",
    "        }\n",
    "        table.put(row_key, data)\n",
    "    \n",
    "    print(\"Datos cargados exitosamente\")"
   ]
  },
  {
   "cell_type": "code",
   "execution_count": null,
   "id": "f795de84-ef50-4cc2-b237-143e1f0db731",
   "metadata": {},
   "outputs": [],
   "source": [
    "    # 4. Consultas y Análisis de Datos\n",
    "    print(\"\\n=== Primeros 3 vinos en la base de datos ===\")\n",
    "    count = 0\n",
    "    for key, data in table.scan():\n",
    "        if count < 3:  # Limitamos a 3 para el ejemplo\n",
    "            print(f\"\\nVino ID: {key.decode()}\")\n",
    "            print(f\"Acidez fija: {data[b'chemistry:fixed_acidity'].decode()}\")\n",
    "            print(f\"Acidez volátil: {data[b'chemistry:volatile_acidity'].decode()}\")\n",
    "            print(f\"Calidad: {data[b'quality:score'].decode()}\")\n",
    "            count += 1"
   ]
  },
  {
   "cell_type": "code",
   "execution_count": null,
   "id": "18ed4e60-abfe-4b25-87a7-2db0fde3e112",
   "metadata": {},
   "outputs": [],
   "source": [
    "    # 5. Análisis del nivel de alcohol por calidad\n",
    "    print(\"\\n=== Nivel promedio de alcohol por puntuación de calidad ===\")\n",
    "    quality_alcohol = {}\n",
    "    quality_counts = {}\n",
    "    \n",
    "    for key, data in table.scan():\n",
    "        quality = data[b'quality:score'].decode()\n",
    "        alcohol = float(data[b'chemistry:alcohol'].decode())\n",
    "        \n",
    "        quality_alcohol[quality] = quality_alcohol.get(quality, 0) + alcohol\n",
    "        quality_counts[quality] = quality_counts.get(quality, 0) + 1\n",
    "    \n",
    "    for quality in quality_alcohol:\n",
    "        avg_alcohol = quality_alcohol[quality] / quality_counts[quality]\n",
    "        print(f\"Calidad {quality}: {avg_alcohol:.2f}% de alcohol promedio\")"
   ]
  },
  {
   "cell_type": "code",
   "execution_count": null,
   "id": "be6245c1-52fb-4c79-92ba-19a43d3f341a",
   "metadata": {},
   "outputs": [],
   "source": [
    "   # 6. Análisis de pH por calidad\n",
    "    print(\"\\n=== pH promedio por puntuación de calidad ===\")\n",
    "    quality_ph = {}\n",
    "    quality_ph_counts = {}\n",
    "    \n",
    "    for key, data in table.scan():\n",
    "        quality = data[b'quality:score'].decode()\n",
    "        ph = float(data[b'chemistry:pH'].decode())\n",
    "        \n",
    "        quality_ph[quality] = quality_ph.get(quality, 0) + ph\n",
    "        quality_ph_counts[quality] = quality_ph_counts.get(quality, 0) + 1\n",
    "    \n",
    "    for quality in quality_ph:\n",
    "        avg_ph = quality_ph[quality] / quality_ph_counts[quality]\n",
    "        print(f\"Calidad {quality}: pH promedio de {avg_ph:.2f}\")"
   ]
  },
  {
   "cell_type": "code",
   "execution_count": null,
   "id": "aaec3327-0f60-4808-9c81-41ee529ae5a5",
   "metadata": {},
   "outputs": [],
   "source": [
    "    # 7. Top 3 vinos con mayor nivel de ácido sulfúrico\n",
    "    print(\"\\n=== Top 3 vinos con mayor nivel de ácido sulfúrico ===\")\n",
    "    wines_by_sulphates = []\n",
    "    for key, data in table.scan():\n",
    "        wines_by_sulphates.append({\n",
    "            'id': key.decode(),\n",
    "            'sulphates': float(data[b'chemistry:sulphates'].decode()),\n",
    "            'quality': data[b'quality:score'].decode()\n",
    "        })\n",
    "    \n",
    "    for wine in sorted(wines_by_sulphates, key=lambda x: x['sulphates'], reverse=True)[:3]:\n",
    "        print(f\"ID: {wine['id']}\")\n",
    "        print(f\"Ácido Sulfúrico: {wine['sulphates']}\")\n",
    "        print(f\"Calidad: {wine['quality']}\\n\")\n",
    "    \n",
    "except Exception as e:\n",
    "    print(f\"Error: {str(e)}\")\n",
    "finally:\n",
    "    # Cerrar la conexión\n",
    "    connection.close()"
   ]
  },
  {
   "cell_type": "markdown",
   "id": "140b80c0-5cc5-46bd-97c2-1ddd7e145819",
   "metadata": {},
   "source": [
    "## Documentación e interpretación de resultados"
   ]
  },
  {
   "cell_type": "markdown",
   "id": "23e80cc1-a291-4895-870c-c0a5af1ef9b5",
   "metadata": {},
   "source": [
    "### Estructura de la tabla en HBase"
   ]
  },
  {
   "cell_type": "markdown",
   "id": "c5168b93-3ceb-4b89-a437-6d32467df8c7",
   "metadata": {},
   "source": [
    "Se crea una tabla en HBase llamada red_wine_quality con dos familias de columnas principales:\n",
    "\n",
    "* #### chemistry:\n",
    "  Esta familia de columnas almacena características químicas del vino.\n",
    "\n",
    "* #### quality:\n",
    "  Esta familia almacena la puntuación de calidad de cada vino."
   ]
  },
  {
   "cell_type": "markdown",
   "id": "4c8c95ed-e79f-4cb4-a341-c0a0149f3ce0",
   "metadata": {},
   "source": [
    "### Operaciones realizadas en HBase"
   ]
  },
  {
   "cell_type": "markdown",
   "id": "18847679-ddc1-4a25-879a-3e63499d1997",
   "metadata": {},
   "source": [
    "##### Carga de datos:\n",
    "\n",
    "Los datos del archivo winequality-red.csv se cargan en HBase. Cada fila corresponde a un vino, y se almacena en HBase, como wine_0, wine_1, etc."
   ]
  },
  {
   "cell_type": "markdown",
   "id": "cf781b5b-da21-4741-b054-89df3cb5083b",
   "metadata": {},
   "source": [
    "#### Consultas Realizadas:\n",
    "\n",
    "* Visualización de los primeros 3 Vinos: Se realiza una vista a los 3 primeros vinos verificando el que cargue de manera correcta.\n",
    "\n",
    "* Promedio de alcohol por calidad: Se calcula el promedio de alcohol respecto a la calidad. Donde evidenciamos que a mayor porcentaje de alcohol, mejor calidad.\n",
    "\n",
    "* Promedio de pH por calidad: Se calcula el promedio del pH respecto a la calidad. Aquí podemos ver que el comportamiento sugiere que a menor nivel de Ph su calidad aumenta.\n",
    "\n",
    "* Vinos con mayor nivel de sulfatos: Se muestran los 3 vinos con mayor nivel de sulfatos y podemos evidenciar que estos valores no se encuentran directamente relacionados con la calidad del vino."
   ]
  }
 ],
 "metadata": {
  "kernelspec": {
   "display_name": "Python 3 (ipykernel)",
   "language": "python",
   "name": "python3"
  },
  "language_info": {
   "codemirror_mode": {
    "name": "ipython",
    "version": 3
   },
   "file_extension": ".py",
   "mimetype": "text/x-python",
   "name": "python",
   "nbconvert_exporter": "python",
   "pygments_lexer": "ipython3",
   "version": "3.12.4"
  }
 },
 "nbformat": 4,
 "nbformat_minor": 5
}
